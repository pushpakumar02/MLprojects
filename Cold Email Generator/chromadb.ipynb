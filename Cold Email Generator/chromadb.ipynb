{
 "cells": [
  {
   "cell_type": "code",
   "execution_count": 2,
   "id": "93ab70d0-4264-47d6-bb4d-2d46b272b892",
   "metadata": {},
   "outputs": [],
   "source": [
    "import chromadb\n",
    "\n",
    "client = chromadb.Client()\n",
    "collection = client.create_collection(name=\"my_collection\")"
   ]
  },
  {
   "cell_type": "code",
   "execution_count": 4,
   "id": "c8527cee-6bb9-4c92-a418-4b55972447d9",
   "metadata": {},
   "outputs": [
    {
     "name": "stderr",
     "output_type": "stream",
     "text": [
      "/Users/pushpakumar/.cache/chroma/onnx_models/all-MiniLM-L6-v2/onnx.tar.gz: 100%|\n"
     ]
    }
   ],
   "source": [
    "collection.add(\n",
    "    documents=[\n",
    "        \"This document is about New York\",\n",
    "        \"This document is about California\"\n",
    "    ],\n",
    "    ids = ['id1','id2']\n",
    ")"
   ]
  },
  {
   "cell_type": "code",
   "execution_count": 6,
   "id": "819b97c5-ea45-4549-9c7e-b3d775ecc641",
   "metadata": {},
   "outputs": [
    {
     "data": {
      "text/plain": [
       "{'ids': ['id1', 'id2'],\n",
       " 'embeddings': None,\n",
       " 'documents': ['This document is about New York',\n",
       "  'This document is about California'],\n",
       " 'uris': None,\n",
       " 'data': None,\n",
       " 'metadatas': [None, None],\n",
       " 'included': [<IncludeEnum.documents: 'documents'>,\n",
       "  <IncludeEnum.metadatas: 'metadatas'>]}"
      ]
     },
     "execution_count": 6,
     "metadata": {},
     "output_type": "execute_result"
    }
   ],
   "source": [
    "all_docs = collection.get()\n",
    "all_docs"
   ]
  },
  {
   "cell_type": "code",
   "execution_count": 8,
   "id": "793c2f91-1263-4dad-b037-c9a19c632724",
   "metadata": {},
   "outputs": [
    {
     "data": {
      "text/plain": [
       "{'ids': ['id1'],\n",
       " 'embeddings': None,\n",
       " 'documents': ['This document is about New York'],\n",
       " 'uris': None,\n",
       " 'data': None,\n",
       " 'metadatas': [None],\n",
       " 'included': [<IncludeEnum.documents: 'documents'>,\n",
       "  <IncludeEnum.metadatas: 'metadatas'>]}"
      ]
     },
     "execution_count": 8,
     "metadata": {},
     "output_type": "execute_result"
    }
   ],
   "source": [
    "document = collection.get(ids=[\"id1\"])\n",
    "document"
   ]
  },
  {
   "cell_type": "code",
   "execution_count": 12,
   "id": "037d0804-bac9-4594-bbcd-e3f5a49a18fc",
   "metadata": {},
   "outputs": [
    {
     "data": {
      "text/plain": [
       "{'ids': [['id1', 'id2']],\n",
       " 'embeddings': None,\n",
       " 'documents': [['This document is about New York',\n",
       "   'This document is about California']],\n",
       " 'uris': None,\n",
       " 'data': None,\n",
       " 'metadatas': [[None, None]],\n",
       " 'distances': [[1.535192608833313, 1.722082495689392]],\n",
       " 'included': [<IncludeEnum.distances: 'distances'>,\n",
       "  <IncludeEnum.documents: 'documents'>,\n",
       "  <IncludeEnum.metadatas: 'metadatas'>]}"
      ]
     },
     "execution_count": 12,
     "metadata": {},
     "output_type": "execute_result"
    }
   ],
   "source": [
    "result = collection.query(\n",
    "    query_texts = ['The query is about stock exchange'],\n",
    "    n_results = 2\n",
    ")\n",
    "result"
   ]
  },
  {
   "cell_type": "code",
   "execution_count": 14,
   "id": "1c934dd3-fde9-4ba1-a6ee-a03ab3ded846",
   "metadata": {},
   "outputs": [
    {
     "data": {
      "text/plain": [
       "{'ids': [],\n",
       " 'embeddings': None,\n",
       " 'documents': [],\n",
       " 'uris': None,\n",
       " 'data': None,\n",
       " 'metadatas': [],\n",
       " 'included': [<IncludeEnum.documents: 'documents'>,\n",
       "  <IncludeEnum.metadatas: 'metadatas'>]}"
      ]
     },
     "execution_count": 14,
     "metadata": {},
     "output_type": "execute_result"
    }
   ],
   "source": [
    "collection.delete(ids=all_docs['ids']) \n",
    "collection.get()"
   ]
  },
  {
   "cell_type": "code",
   "execution_count": 22,
   "id": "ef2c81f5-7ca6-4f62-95d0-943534ec1f17",
   "metadata": {},
   "outputs": [],
   "source": [
    "collection.add(\n",
    "    documents=[\n",
    "        \"This document is about software engineer internship summer 2025\",\n",
    "        \"This document is about Machine learning engineer intership summer 2025\"\n",
    "    ],\n",
    "    ids = ['id3','id4'],\n",
    "    metadatas= [\n",
    "        {\"url\":\"https://jobright.ai/jobs/recommend\"},\n",
    "        {\"url\":\"https://jobright.ai/jobs/recommend\"}\n",
    "    ]\n",
    ")"
   ]
  },
  {
   "cell_type": "code",
   "execution_count": 24,
   "id": "54946517-48c5-4365-8027-ca0573fcb53b",
   "metadata": {},
   "outputs": [
    {
     "data": {
      "text/plain": [
       "{'ids': [['id3', 'id4']],\n",
       " 'embeddings': None,\n",
       " 'documents': [['This document is about software engineer internship summer 2025',\n",
       "   'This document is about Machine learning engineer intership summer 2025']],\n",
       " 'uris': None,\n",
       " 'data': None,\n",
       " 'metadatas': [[{'url': 'https://jobright.ai/jobs/recommend'},\n",
       "   {'url': 'https://jobright.ai/jobs/recommend'}]],\n",
       " 'distances': [[1.3091412782669067, 1.4296483993530273]],\n",
       " 'included': [<IncludeEnum.distances: 'distances'>,\n",
       "  <IncludeEnum.documents: 'documents'>,\n",
       "  <IncludeEnum.metadatas: 'metadatas'>]}"
      ]
     },
     "execution_count": 24,
     "metadata": {},
     "output_type": "execute_result"
    }
   ],
   "source": [
    "result = collection.query(\n",
    "    query_texts = ['The query is about summer'],\n",
    "    n_results = 2\n",
    ")\n",
    "result"
   ]
  }
 ],
 "metadata": {
  "kernelspec": {
   "display_name": "Python [conda env:base] *",
   "language": "python",
   "name": "conda-base-py"
  },
  "language_info": {
   "codemirror_mode": {
    "name": "ipython",
    "version": 3
   },
   "file_extension": ".py",
   "mimetype": "text/x-python",
   "name": "python",
   "nbconvert_exporter": "python",
   "pygments_lexer": "ipython3",
   "version": "3.12.7"
  }
 },
 "nbformat": 4,
 "nbformat_minor": 5
}
